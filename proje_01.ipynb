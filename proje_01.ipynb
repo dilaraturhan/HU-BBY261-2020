{
  "nbformat": 4,
  "nbformat_minor": 0,
  "metadata": {
    "colab": {
      "name": "proje_01.ipynb",
      "provenance": [],
      "collapsed_sections": [],
      "authorship_tag": "ABX9TyOMtQJSfWABD3lKV3b5LIOX",
      "include_colab_link": true
    },
    "kernelspec": {
      "name": "python3",
      "display_name": "Python 3"
    }
  },
  "cells": [
    {
      "cell_type": "markdown",
      "metadata": {
        "id": "view-in-github",
        "colab_type": "text"
      },
      "source": [
        "<a href=\"https://colab.research.google.com/github/dilaraturhan/hu-bby261-2020/blob/main/proje_01.ipynb\" target=\"_parent\"><img src=\"https://colab.research.google.com/assets/colab-badge.svg\" alt=\"Open In Colab\"/></a>"
      ]
    },
    {
      "cell_type": "code",
      "metadata": {
        "id": "_5gUzwLiNeUp"
      },
      "source": [
        "punctuations = \"!'^+%&/()=?-*#${[]}\\|\"\n",
        "metin = \"dilara Lorem Ipsum is simply dummy text of the printing and typesetting industry industry. Lorem Ipsum has been the ind-ustry' standard dummy text ever since the 1500s, when an unknown printer took a galley of type and scrambled it to make a type specimen book. It has survived not only five centuries, but also the leap into electronic typesetting, remaining essentially unchanged. It was popularised in the 1960s with the release of Letraset sheets containing Lorem Ipsum passages, and more recently with desktop publishing software like Aldus PageMaker including versions of Lorem Ipsum.\" \n",
        "metin = metin.lower()\n",
        "no_punct= \"\"\n",
        "for char in metin:\n",
        "  if char not in punctuations:\n",
        "    no_punct= no_punct +char\n",
        "ArananKelime = input (\"Aramak istediğiniz kelime:\").lower() \n",
        "sonuc = no_punct.count(ArananKelime)\n",
        "print(sonuc)"
      ],
      "execution_count": null,
      "outputs": []
    }
  ]
}