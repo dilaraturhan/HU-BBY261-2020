{
  "nbformat": 4,
  "nbformat_minor": 0,
  "metadata": {
    "colab": {
      "name": "proje_01.ipynb",
      "provenance": [],
      "collapsed_sections": [],
      "authorship_tag": "ABX9TyNCgoJSobtXhLbCL0w1zno6",
      "include_colab_link": true
    },
    "kernelspec": {
      "name": "python3",
      "display_name": "Python 3"
    }
  },
  "cells": [
    {
      "cell_type": "markdown",
      "metadata": {
        "id": "view-in-github",
        "colab_type": "text"
      },
      "source": [
        "<a href=\"https://colab.research.google.com/github/dilaraturhan/hu-bby261-2020/blob/main/proje_01.ipynb\" target=\"_parent\"><img src=\"https://colab.research.google.com/assets/colab-badge.svg\" alt=\"Open In Colab\"/></a>"
      ]
    },
    {
      "cell_type": "code",
      "metadata": {
        "id": "_5gUzwLiNeUp"
      },
      "source": [
        "punctuations = \"!'^+%&/()=?-*#${[]}\\|\"\n",
        "metin = \"Fotoğraf doğadaki bir manzaranın doğru açılarda yakalanması ile en güzel şeklini alabilir. Ancak illüstrasyon için doğa sınırları olmadığı için uçsuz bucaksız bir hayal düny-asından neler çıkabileceğini kestirmek) oldukça güç. Bu nedenle de illüstra-syon sanatçılar her sene çıkardıkları inanılmaz işler ile bizi şaşırmaya devam ediyorlar.\" \n",
        "metin = metin.lower()\n",
        "no_punct= \"\"\n",
        "for char in metin:\n",
        "  if char not in punctuations:\n",
        "    no_punct= no_punct +char\n",
        "ArananKelime = input (\"Aramak istediğiniz kelime:\").lower() \n",
        "sonuc = no_punct.count(ArananKelime)\n",
        "print(sonuc)"
      ],
      "execution_count": null,
      "outputs": []
    }
  ]
}
