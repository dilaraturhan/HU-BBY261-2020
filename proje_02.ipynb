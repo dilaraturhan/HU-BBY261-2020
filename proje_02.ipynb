{
  "nbformat": 4,
  "nbformat_minor": 0,
  "metadata": {
    "colab": {
      "name": "proje_02.ipynb",
      "provenance": [],
      "collapsed_sections": [],
      "authorship_tag": "ABX9TyNCaEyyj+Ds64LdpF3ZLXSk",
      "include_colab_link": true
    },
    "kernelspec": {
      "name": "python3",
      "display_name": "Python 3"
    }
  },
  "cells": [
    {
      "cell_type": "markdown",
      "metadata": {
        "id": "view-in-github",
        "colab_type": "text"
      },
      "source": [
        "<a href=\"https://colab.research.google.com/github/dilaraturhan/hu-bby261-2020/blob/main/proje_02.ipynb\" target=\"_parent\"><img src=\"https://colab.research.google.com/assets/colab-badge.svg\" alt=\"Open In Colab\"/></a>"
      ]
    },
    {
      "cell_type": "code",
      "metadata": {
        "id": "66VlT0n8f0i4",
        "outputId": "62ffd3c7-f194-4405-cd4d-13a39ef0e5ac",
        "colab": {
          "base_uri": "https://localhost:8080/"
        }
      },
      "source": [
        "import tensorflow as tf\n",
        "\n",
        "import numpy as np\n",
        "import logging\n",
        "logger = tf.get_logger()\n",
        "logger.setLevel(logging.ERROR)\n",
        "\n",
        "kilometre = np.array([2, 10,  30, 50, 100,],  dtype=float)\n",
        "mil = np.array([1.242742, 6.213712, 18.64114, 31.06856, 62.13712],  dtype=float)\n",
        "\n",
        "for i,c in enumerate(kilometre):\n",
        "  print(\"{} Kilometre = {} Mil\".format(c, mil[i]))\n",
        "\n",
        "l0 = tf.keras.layers.Dense(units=1, input_shape=[1])\n",
        "model = tf.keras.Sequential([l0])\n",
        "model.compile(loss='mean_squared_error',\n",
        "              optimizer=tf.keras.optimizers.Adam(0.1))\n",
        "t = input(\"Hesaplamak istediğiniz türü giriniz:\")\n",
        "if t == \"kilometre\" :\n",
        "  print(\"Kilometre hesaplanacaktır.\")\n",
        "  y = input(\"Kilometreyi giriniz:\")\n",
        "  y =int(y)\n",
        "  x = input(\"Epochs değeri:\")\n",
        "  x = int(x)\n",
        "  history = model.fit(kilometre, mil, epochs=(x), verbose=False)\n",
        "  print(\"Finished training the model\")\n",
        "  print(model.predict([y]))\n",
        "elif t== \"mil\": \n",
        "  print(\"Mil hesaplanacaktır.\")\n",
        "  z = input(\"Mili giriniz:\")\n",
        "  z = int(z)\n",
        "  x = input(\"Epochs değeri:\")\n",
        "  x = int(x)\n",
        "  history = model.fit(mil, kilometre, epochs=(x), verbose=False)\n",
        "  print(\"Finished training the model\")\n",
        "  print(model.predict([z]))\n",
        "\n",
        "import matplotlib.pyplot as plt\n",
        "plt.xlabel('Epoch Number')\n",
        "plt.ylabel(\"Loss Magnitude\")\n",
        "plt.plot(history.history['loss'])\n",
        "print(\"These are the layer variables: {}\".format(l0.get_weights()))"
      ],
      "execution_count": null,
      "outputs": [
        {
          "output_type": "stream",
          "text": [
            "2.0 Kilometre = 1.242742 Mil\n",
            "10.0 Kilometre = 6.213712 Mil\n",
            "30.0 Kilometre = 18.64114 Mil\n",
            "50.0 Kilometre = 31.06856 Mil\n",
            "100.0 Kilometre = 62.13712 Mil\n"
          ],
          "name": "stdout"
        }
      ]
    }
  ]
}