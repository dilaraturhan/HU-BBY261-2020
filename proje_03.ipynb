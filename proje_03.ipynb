{
  "nbformat": 4,
  "nbformat_minor": 0,
  "metadata": {
    "accelerator": "GPU",
    "colab": {
      "name": "Untitled0.ipynb",
      "provenance": [],
      "collapsed_sections": [],
      "mount_file_id": "1P2kJC0XGWex0_60W5wcU0ZaVQ-8nWqdb",
      "authorship_tag": "ABX9TyOndFDTl4gwANDewc+Uqz84",
      "include_colab_link": true
    },
    "kernelspec": {
      "display_name": "Python 3",
      "name": "python3"
    }
  },
  "cells": [
    {
      "cell_type": "markdown",
      "metadata": {
        "id": "view-in-github",
        "colab_type": "text"
      },
      "source": [
        "<a href=\"https://colab.research.google.com/github/dilaraturhan/hu-bby261-2020/blob/main/proje_03.ipynb\" target=\"_parent\"><img src=\"https://colab.research.google.com/assets/colab-badge.svg\" alt=\"Open In Colab\"/></a>"
      ]
    },
    {
      "cell_type": "code",
      "metadata": {
        "id": "1kgyygixzq3X",
        "colab": {
          "base_uri": "https://localhost:8080/",
          "height": 1000
        },
        "outputId": "39018faf-e939-46b2-b673-a92ce0373b65"
      },
      "source": [
        "import tensorflow as tf\n",
        "(x_train, y_train), (x_test, y_test) = tf.keras.datasets.mnist.load_data()\n",
        "\n",
        "import matplotlib.pyplot as plt\n",
        "image_index = 10 \n",
        "print(y_train[image_index]) \n",
        "plt.imshow(x_train[image_index], cmap='Greys')\n",
        "\n",
        "print(x_train[image_index])\n",
        "x_train.shape\n",
        "x_train = x_train.reshape(x_train.shape[0], 28, 28, 1)\n",
        "x_test = x_test.reshape(x_test.shape[0], 28, 28, 1)\n",
        "input_shape = (28, 28, 1)\n",
        "x_train = x_train.astype('float32')\n",
        "x_test = x_test.astype('float32')\n",
        "x_train /= 255\n",
        "x_test /= 255\n",
        "print('x_train shape:', x_train.shape)\n",
        "print('Number of images in x_train', x_train.shape[0])\n",
        "print('Number of images in x_test', x_test.shape[0])\n",
        "from tensorflow.keras.models import Sequential\n",
        "from tensorflow.keras.layers import Dense, Conv2D, Dropout, Flatten, MaxPooling2D\n",
        "model = Sequential()\n",
        "model.add(Conv2D(28, kernel_size=(3,3), input_shape=input_shape))\n",
        "model.add(MaxPooling2D(pool_size=(2, 2)))\n",
        "model.add(Flatten())\n",
        "model.add(Dense(128, activation=tf.nn.relu))\n",
        "model.add(Dropout(0.2))\n",
        "model.add(Dense(10,activation=tf.nn.softmax))\n",
        "\n",
        "model.compile(optimizer='adam', \n",
        "              loss='sparse_categorical_crossentropy', \n",
        "              metrics=['accuracy'])\n",
        "model.fit(x=x_train,y=y_train, epochs=10)\n",
        "model.evaluate(x_test, y_test)\n",
        "image_index = 50\n",
        "plt.imshow(x_test[image_index].reshape(28, 28),cmap='Greys')\n",
        "pred = model.predict(x_test[image_index].reshape(1, 28, 28, 1))\n",
        "print(pred.argmax())\n",
        "\n",
        "from PIL import Image\n",
        "import numpy as np\n",
        "\n",
        "png = Image.open(\"/content/drive/MyDrive/deneme/veriseti/b.png\").convert(\"L\")\n",
        "png = np.resize(png, (28,28,1))\n",
        "pngBinary = np.array(png)\n",
        "plt.imshow(pngBinary.reshape(28, 28))\n",
        "\n",
        "tahminDizi = model.predict(pngBinary.reshape(1, 28, 28, 1))\n",
        "tahminSayi = np.argmax(model.predict(pngBinary.reshape(1, 28, 28, 1)), axis=-1)\n",
        "\n",
        "print(tahminDizi)\n",
        "print(tahminSayi)\n",
        "\n"
      ],
      "execution_count": 2,
      "outputs": [
        {
          "output_type": "stream",
          "text": [
            "3\n",
            "[[  0   0   0   0   0   0   0   0   0   0   0   0   0   0   0   0   0   0\n",
            "    0   0   0   0   0   0   0   0   0   0]\n",
            " [  0   0   0   0   0   0   0   0   0   0   0   0   0   0   0   0   0   0\n",
            "    0   0   0   0   0   0   0   0   0   0]\n",
            " [  0   0   0   0   0   0   0   0   0   0   0   0   0   0   0   0   0   0\n",
            "    0   0   0   0   0   0   0   0   0   0]\n",
            " [  0   0   0   0   0   0   0   0   0   0   0   0   0   0   0   0   0   0\n",
            "    0   0   0   0   0   0   0   0   0   0]\n",
            " [  0   0   0   0   0   0   0   0   0   0   0  42 118 219 166 118 118   6\n",
            "    0   0   0   0   0   0   0   0   0   0]\n",
            " [  0   0   0   0   0   0   0   0   0   0 103 242 254 254 254 254 254  66\n",
            "    0   0   0   0   0   0   0   0   0   0]\n",
            " [  0   0   0   0   0   0   0   0   0   0  18 232 254 254 254 254 254 238\n",
            "   70   0   0   0   0   0   0   0   0   0]\n",
            " [  0   0   0   0   0   0   0   0   0   0   0 104 244 254 224 254 254 254\n",
            "  141   0   0   0   0   0   0   0   0   0]\n",
            " [  0   0   0   0   0   0   0   0   0   0   0   0 207 254 210 254 254 254\n",
            "   34   0   0   0   0   0   0   0   0   0]\n",
            " [  0   0   0   0   0   0   0   0   0   0   0   0  84 206 254 254 254 254\n",
            "   41   0   0   0   0   0   0   0   0   0]\n",
            " [  0   0   0   0   0   0   0   0   0   0   0   0   0  24 209 254 254 254\n",
            "  171   0   0   0   0   0   0   0   0   0]\n",
            " [  0   0   0   0   0   0   0   0   0   0   0   0  91 137 253 254 254 254\n",
            "  112   0   0   0   0   0   0   0   0   0]\n",
            " [  0   0   0   0   0   0   0   0   0   0  40 214 250 254 254 254 254 254\n",
            "   34   0   0   0   0   0   0   0   0   0]\n",
            " [  0   0   0   0   0   0   0   0   0   0  81 247 254 254 254 254 254 254\n",
            "  146   0   0   0   0   0   0   0   0   0]\n",
            " [  0   0   0   0   0   0   0   0   0   0   0 110 246 254 254 254 254 254\n",
            "  171   0   0   0   0   0   0   0   0   0]\n",
            " [  0   0   0   0   0   0   0   0   0   0   0   0  73  89  89  93 240 254\n",
            "  171   0   0   0   0   0   0   0   0   0]\n",
            " [  0   0   0   0   0   0   0   0   0   0   0   0   0   0   0   1 128 254\n",
            "  219  31   0   0   0   0   0   0   0   0]\n",
            " [  0   0   0   0   0   0   0   0   0   0   0   0   0   0   0   7 254 254\n",
            "  214  28   0   0   0   0   0   0   0   0]\n",
            " [  0   0   0   0   0   0   0   0   0   0   0   0   0   0   0 138 254 254\n",
            "  116   0   0   0   0   0   0   0   0   0]\n",
            " [  0   0   0   0   0   0  19 177  90   0   0   0   0   0  25 240 254 254\n",
            "   34   0   0   0   0   0   0   0   0   0]\n",
            " [  0   0   0   0   0   0 164 254 215  63  36   0  51  89 206 254 254 139\n",
            "    8   0   0   0   0   0   0   0   0   0]\n",
            " [  0   0   0   0   0   0  57 197 254 254 222 180 241 254 254 253 213  11\n",
            "    0   0   0   0   0   0   0   0   0   0]\n",
            " [  0   0   0   0   0   0   0 140 105 254 254 254 254 254 254 236   0   0\n",
            "    0   0   0   0   0   0   0   0   0   0]\n",
            " [  0   0   0   0   0   0   0   0   7 117 117 165 254 254 239  50   0   0\n",
            "    0   0   0   0   0   0   0   0   0   0]\n",
            " [  0   0   0   0   0   0   0   0   0   0   0   0   0   0   0   0   0   0\n",
            "    0   0   0   0   0   0   0   0   0   0]\n",
            " [  0   0   0   0   0   0   0   0   0   0   0   0   0   0   0   0   0   0\n",
            "    0   0   0   0   0   0   0   0   0   0]\n",
            " [  0   0   0   0   0   0   0   0   0   0   0   0   0   0   0   0   0   0\n",
            "    0   0   0   0   0   0   0   0   0   0]\n",
            " [  0   0   0   0   0   0   0   0   0   0   0   0   0   0   0   0   0   0\n",
            "    0   0   0   0   0   0   0   0   0   0]]\n",
            "x_train shape: (60000, 28, 28, 1)\n",
            "Number of images in x_train 60000\n",
            "Number of images in x_test 10000\n",
            "Epoch 1/10\n",
            "1875/1875 [==============================] - 4s 2ms/step - loss: 0.2007 - accuracy: 0.9397\n",
            "Epoch 2/10\n",
            "1875/1875 [==============================] - 4s 2ms/step - loss: 0.0821 - accuracy: 0.9749\n",
            "Epoch 3/10\n",
            "1875/1875 [==============================] - 4s 2ms/step - loss: 0.0576 - accuracy: 0.9821\n",
            "Epoch 4/10\n",
            "1875/1875 [==============================] - 4s 2ms/step - loss: 0.0447 - accuracy: 0.9859\n",
            "Epoch 5/10\n",
            "1875/1875 [==============================] - 4s 2ms/step - loss: 0.0336 - accuracy: 0.9889\n",
            "Epoch 6/10\n",
            "1875/1875 [==============================] - 4s 2ms/step - loss: 0.0284 - accuracy: 0.9905\n",
            "Epoch 7/10\n",
            "1875/1875 [==============================] - 4s 2ms/step - loss: 0.0241 - accuracy: 0.9917\n",
            "Epoch 8/10\n",
            "1875/1875 [==============================] - 4s 2ms/step - loss: 0.0212 - accuracy: 0.9927\n",
            "Epoch 9/10\n",
            "1875/1875 [==============================] - 4s 2ms/step - loss: 0.0192 - accuracy: 0.9934\n",
            "Epoch 10/10\n",
            "1875/1875 [==============================] - 4s 2ms/step - loss: 0.0180 - accuracy: 0.9938\n",
            "313/313 [==============================] - 1s 2ms/step - loss: 0.0577 - accuracy: 0.9849\n",
            "6\n",
            "[[0. 0. 1. 0. 0. 0. 0. 0. 0. 0.]]\n",
            "[2]\n"
          ],
          "name": "stdout"
        },
        {
          "output_type": "display_data",
          "data": {
            "image/png": "iVBORw0KGgoAAAANSUhEUgAAAPsAAAD4CAYAAAAq5pAIAAAABHNCSVQICAgIfAhkiAAAAAlwSFlzAAALEgAACxIB0t1+/AAAADh0RVh0U29mdHdhcmUAbWF0cGxvdGxpYiB2ZXJzaW9uMy4yLjIsIGh0dHA6Ly9tYXRwbG90bGliLm9yZy+WH4yJAAAK+0lEQVR4nO3dT4ic933H8fenriwTJQWpboXqmCYNvphClbKohZjiYpo6vsi5mPgQVDAohxgSyKEmPcRHU5qEHkpAqUXUkjoEEmMdTBNVBEwuxrJRbdlOa9fIRKosNfgQp1BZdr497KOwsXe1q5ln/kjf9wuWmX1mVs/Xg996ZuaZ1S9VhaTr328segBJ82HsUhPGLjVh7FITxi418Zvz3NmN2V43sWOeu5Ra+T/+l7frYta7barYk9wN/D1wA/CPVfXIle5/Ezv4k9w1zS4lXcHTdXzD2yZ+Gp/kBuAfgE8BtwP3J7l90j9P0mxN85p9H/BqVb1WVW8D3wH2jzOWpLFNE/stwE/XfH9m2PZrkhxMciLJiUtcnGJ3kqYx83fjq+pQVa1U1co2ts96d5I2ME3sZ4Fb13z/4WGbpCU0TezPALcl+WiSG4HPAEfHGUvS2CY+9VZV7yR5EPgBq6feDlfVi6NNJmlUU51nr6ongSdHmkXSDPlxWakJY5eaMHapCWOXmjB2qQljl5owdqkJY5eaMHapCWOXmjB2qQljl5owdqkJY5eaMHapCWOXmjB2qQljl5owdqkJY5eaMHapCWOXmjB2qQljl5owdqkJY5eaMHapCWOXmjB2qQljl5qYasnmJKeBt4B3gXeqamWMoSSNb6rYB39eVT8b4c+RNEM+jZeamDb2An6Y5NkkB9e7Q5KDSU4kOXGJi1PuTtKkpn0af0dVnU3yu8CxJD+pqqfW3qGqDgGHAH4ru2rK/Uma0FRH9qo6O1xeAB4H9o0xlKTxTRx7kh1JPnT5OvBJ4NRYg0ka1zRP43cDjye5/Of8S1X96yhT6ar84L9PLnqEmfjL39u76BGuKxPHXlWvAX804iySZshTb1ITxi41YexSE8YuNWHsUhNj/CKMZmyWp9ZmfXrrej0teC3yyC41YexSE8YuNWHsUhPGLjVh7FITxi414Xn2JXAtn0efpc0el2v5v20RPLJLTRi71ISxS00Yu9SEsUtNGLvUhLFLTXiefQ5m/Tvdy3y++UqzTfu4eB7+6nhkl5owdqkJY5eaMHapCWOXmjB2qQljl5rwPPs1wPPFGsOmR/Ykh5NcSHJqzbZdSY4leWW43DnbMSVNaytP478F3P2ebQ8Bx6vqNuD48L2kJbZp7FX1FPDmezbvB44M148A9448l6SRTfqafXdVnRuuvwHs3uiOSQ4CBwFu4gMT7k7StKZ+N76qCqgr3H6oqlaqamUb26fdnaQJTRr7+SR7AIbLC+ONJGkWJo39KHBguH4AeGKccSTNyqav2ZM8BtwJ3JzkDPAV4BHgu0keAF4H7pvlkNc6z5Ovb7PHxbXdx7Vp7FV1/wY33TXyLJJmyI/LSk0Yu9SEsUtNGLvUhLFLTRi71ISxS00Yu9SEsUtNGLvUhLFLTRi71ISxS00Yu9SEsUtNGLvUhLFLTRi71ISxS00Yu9SEsUtNuGSzZsp/Dnp5eGSXmjB2qQljl5owdqkJY5eaMHapCWOXmvA8u6Yyy/PoLnU9rk2P7EkOJ7mQ5NSabQ8nOZvk5PB1z2zHlDStrTyN/xZw9zrbv15Ve4evJ8cdS9LYNo29qp4C3pzDLJJmaJo36B5M8vzwNH/nRndKcjDJiSQnLnFxit1JmsaksX8D+BiwFzgHfHWjO1bVoapaqaqVbWyfcHeSpjVR7FV1vqrerapfAt8E9o07lqSxTRR7kj1rvv00cGqj+0paDpueZ0/yGHAncHOSM8BXgDuT7AUKOA18boYzaoZm/fvmnitfHpvGXlX3r7P50RnMImmG/Lis1ISxS00Yu9SEsUtNGLvUhL/ieh1Y5D/X7Km1a4dHdqkJY5eaMHapCWOXmjB2qQljl5owdqkJz7NfAzyPrjF4ZJeaMHapCWOXmjB2qQljl5owdqkJY5ea8Dz7HPjPNWsZeGSXmjB2qQljl5owdqkJY5eaMHapCWOXmvA8+wgW+fvmy7D/69H1+NmFTY/sSW5N8qMkLyV5MckXhu27khxL8spwuXP240qa1Faexr8DfKmqbgf+FPh8ktuBh4DjVXUbcHz4XtKS2jT2qjpXVc8N198CXgZuAfYDR4a7HQHundWQkqZ3Va/Zk3wE+DjwNLC7qs4NN70B7N7gZw4CBwFu4gOTzilpSlt+Nz7JB4HvAV+sqp+vva2qCqj1fq6qDlXVSlWtbGP7VMNKmtyWYk+yjdXQv11V3x82n0+yZ7h9D3BhNiNKGsOmT+OTBHgUeLmqvrbmpqPAAeCR4fKJmUwozcD1eGptM1t5zf4J4LPAC0kun9D9MquRfzfJA8DrwH2zGVHSGDaNvap+DGSDm+8adxxJs+LHZaUmjF1qwtilJoxdasLYpSb8FdcRdDxnq2uPR3apCWOXmjB2qQljl5owdqkJY5eaMHapCWOXmjB2qQljl5owdqkJY5eaMHapCWOXmjB2qQljl5owdqkJY5eaMHapCWOXmjB2qQljl5owdqmJTWNPcmuSHyV5KcmLSb4wbH84ydkkJ4eve2Y/rqRJbWWRiHeAL1XVc0k+BDyb5Nhw29er6u9mN56ksWxlffZzwLnh+ltJXgZumfVgksZ1Va/Zk3wE+Djw9LDpwSTPJzmcZOcGP3MwyYkkJy5xcaphJU1uy7En+SDwPeCLVfVz4BvAx4C9rB75v7rez1XVoapaqaqVbWwfYWRJk9hS7Em2sRr6t6vq+wBVdb6q3q2qXwLfBPbNbkxJ09rKu/EBHgVerqqvrdm+Z83dPg2cGn88SWPZyrvxnwA+C7yQ5OSw7cvA/Un2AgWcBj43kwkljWIr78b/GMg6Nz05/jiSZsVP0ElNGLvUhLFLTRi71ISxS00Yu9SEsUtNGLvUhLFLTRi71ISxS00Yu9SEsUtNGLvURKpqfjtL/gd4fc2mm4GfzW2Aq7Ossy3rXOBskxpztt+vqt9Z74a5xv6+nScnqmplYQNcwbLOtqxzgbNNal6z+TReasLYpSYWHfuhBe//SpZ1tmWdC5xtUnOZbaGv2SXNz6KP7JLmxNilJhYSe5K7k/xHkleTPLSIGTaS5HSSF4ZlqE8seJbDSS4kObVm264kx5K8Mlyuu8begmZbimW8r7DM+EIfu0Uvfz731+xJbgD+E/gL4AzwDHB/Vb0010E2kOQ0sFJVC/8ARpI/A34B/FNV/eGw7W+BN6vqkeEvyp1V9ddLMtvDwC8WvYz3sFrRnrXLjAP3An/FAh+7K8x1H3N43BZxZN8HvFpVr1XV28B3gP0LmGPpVdVTwJvv2bwfODJcP8Lq/yxzt8FsS6GqzlXVc8P1t4DLy4wv9LG7wlxzsYjYbwF+uub7MyzXeu8F/DDJs0kOLnqYdeyuqnPD9TeA3YscZh2bLuM9T+9ZZnxpHrtJlj+flm/Qvd8dVfXHwKeAzw9PV5dSrb4GW6Zzp1taxnte1llm/FcW+dhNuvz5tBYR+1ng1jXff3jYthSq6uxweQF4nOVbivr85RV0h8sLC57nV5ZpGe/1lhlnCR67RS5/vojYnwFuS/LRJDcCnwGOLmCO90myY3jjhCQ7gE+yfEtRHwUODNcPAE8scJZfsyzLeG+0zDgLfuwWvvx5Vc39C7iH1Xfk/wv4m0XMsMFcfwD8+/D14qJnAx5j9WndJVbf23gA+G3gOPAK8G/AriWa7Z+BF4DnWQ1rz4Jmu4PVp+jPAyeHr3sW/dhdYa65PG5+XFZqwjfopCaMXWrC2KUmjF1qwtilJoxdasLYpSb+H/KEcDdYJSJQAAAAAElFTkSuQmCC\n",
            "text/plain": [
              "<Figure size 432x288 with 1 Axes>"
            ]
          },
          "metadata": {
            "tags": [],
            "needs_background": "light"
          }
        }
      ]
    },
    {
      "cell_type": "code",
      "metadata": {
        "colab": {
          "base_uri": "https://localhost:8080/",
          "height": 1000
        },
        "id": "n7Q03-NLLZnL",
        "outputId": "be1acf42-d362-412c-ddb2-aa95a777e389"
      },
      "source": [
 
